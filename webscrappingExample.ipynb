{
  "nbformat": 4,
  "nbformat_minor": 0,
  "metadata": {
    "colab": {
      "name": "webscrappingExample.ipynb",
      "provenance": [],
      "authorship_tag": "ABX9TyO7HhRtcXIk6bwGqm6QAsKk",
      "include_colab_link": true
    },
    "kernelspec": {
      "name": "python3",
      "display_name": "Python 3"
    },
    "language_info": {
      "name": "python"
    }
  },
  "cells": [
    {
      "cell_type": "markdown",
      "metadata": {
        "id": "view-in-github",
        "colab_type": "text"
      },
      "source": [
        "<a href=\"https://colab.research.google.com/github/approjecthub/automation/blob/main/webscrappingExample.ipynb\" target=\"_parent\"><img src=\"https://colab.research.google.com/assets/colab-badge.svg\" alt=\"Open In Colab\"/></a>"
      ]
    },
    {
      "cell_type": "code",
      "metadata": {
        "id": "4s0OJn0R3D8M"
      },
      "source": [
        "from bs4 import BeautifulSoup\n",
        "import requests"
      ],
      "execution_count": null,
      "outputs": []
    },
    {
      "cell_type": "markdown",
      "metadata": {
        "id": "-KsKB91D4bav"
      },
      "source": [
        "## Getting Category of Games available"
      ]
    },
    {
      "cell_type": "code",
      "metadata": {
        "colab": {
          "base_uri": "https://localhost:8080/"
        },
        "id": "-PHK6PYs4B4f",
        "outputId": "5e0af21f-52ea-48e0-d73a-38a0abcdd804"
      },
      "source": [
        "source = requests.get('https://sell.gameloot.in/product-category/sell-games/').text\n",
        "soup = BeautifulSoup(source, 'lxml')\n",
        "\n",
        "##getting all category\n",
        "gameCategory = []\n",
        "for game in soup.find('ul', class_='woof_list woof_list_checkbox').select('input[type=\"checkbox\"]'):\n",
        "  gameCategory.append(game['name'])\n",
        "\n",
        "# PS3, PS VITA, Xbox 360 are not required\n",
        "notReqCat = ['ps3','ps-vita','xbox-360' ]\n",
        "\n",
        "reqGameCat = []\n",
        "for cat in gameCategory:\n",
        "  if cat not in notReqCat:\n",
        "    reqGameCat.append(cat)\n",
        "\n",
        "print(reqGameCat)##Categories that I need"
      ],
      "execution_count": null,
      "outputs": [
        {
          "output_type": "stream",
          "name": "stdout",
          "text": [
            "['ps5', 'xbox-series', 'ps4', 'xbox-one', 'nintendo-switch']\n"
          ]
        }
      ]
    },
    {
      "cell_type": "markdown",
      "metadata": {
        "id": "dK6ozJHW4-B3"
      },
      "source": [
        "## Getting all game datas of above category"
      ]
    },
    {
      "cell_type": "code",
      "metadata": {
        "id": "nx1NgcM844Q7"
      },
      "source": [
        "def getDatas(soup, game_ps5, cat):\n",
        "  product_container = soup.find(id='product_wrapper')\n",
        "  if not product_container:\n",
        "    return\n",
        "  ##get image links \n",
        "  for img in product_container.find_all('img'):\n",
        "    game_ps5['ImgLink'].append(img['src'][2:])\n",
        "    game_ps5['Category'].append(cat)\n",
        "\n",
        "  ##get details of product\n",
        "  for prod in product_container.find_all(class_='product_details'):\n",
        "    game_ps5['Details'].append(prod.h5.text)\n",
        "\n",
        "  ##get credit and cash price\n",
        "  prices = product_container.find_all(class_='woocommerce-Price-amount amount')\n",
        "  for i in range(len(prices)):\n",
        "    price = ' '.join(prices[i].text.strip().split())\n",
        "    \n",
        "    if (i%2==0):\n",
        "      game_ps5['CreditPrice'].append(price)\n",
        "    else:\n",
        "      game_ps5['CashPrice'].append(price)"
      ],
      "execution_count": null,
      "outputs": []
    },
    {
      "cell_type": "code",
      "metadata": {
        "id": "8zjxW6kZ5M0i"
      },
      "source": [
        "\n",
        "\n",
        "game_ps5 = {}##It will hold all data\n",
        "game_ps5['ImgLink']= []\n",
        "game_ps5['Category'] = []\n",
        "game_ps5['Details'] = []\n",
        "game_ps5['CreditPrice'] = []\n",
        "game_ps5['CashPrice'] = []\n",
        "\n",
        "\n",
        "for cat in reqGameCat:\n",
        "  source = requests.get(f'https://sell.gameloot.in/product-category/sell-games/?pa_platforms={cat}').text\n",
        "  soup = BeautifulSoup(source, 'lxml')\n",
        "\n",
        "  pageCount = 1\n",
        "  getDatas(soup, game_ps5, cat)\n",
        "\n",
        "  #Check for more than one pages by observing the pagination\n",
        "  page_ul = soup.find('ul', class_='page-numbers')\n",
        "  \n",
        "  pageCount = 1\n",
        "  if page_ul:\n",
        "    pageCount = int(page_ul.find_all('li')[-2].text)\n",
        "\n",
        "  ##Iterating through all pages\n",
        "  for pagei in range(1,pageCount):\n",
        "    source = requests.get(f'https://sell.gameloot.in/product-category/sell-games/page/{pagei+1}/?pa_platforms={cat}').text\n",
        "    soup = BeautifulSoup(source, 'lxml')\n",
        "    getDatas(soup, game_ps5, cat)"
      ],
      "execution_count": null,
      "outputs": []
    },
    {
      "cell_type": "code",
      "metadata": {
        "id": "POmKW8Gn7YNY",
        "colab": {
          "base_uri": "https://localhost:8080/",
          "height": 204
        },
        "outputId": "806100f7-60ea-456a-8718-22ecc0e9a0f6"
      },
      "source": [
        "##Converting dictionary to dataframe\n",
        "import pandas as pd\n",
        "df = pd.DataFrame(game_ps5)\n",
        "\n",
        "df.head()"
      ],
      "execution_count": null,
      "outputs": [
        {
          "output_type": "execute_result",
          "data": {
            "text/html": [
              "<div>\n",
              "<style scoped>\n",
              "    .dataframe tbody tr th:only-of-type {\n",
              "        vertical-align: middle;\n",
              "    }\n",
              "\n",
              "    .dataframe tbody tr th {\n",
              "        vertical-align: top;\n",
              "    }\n",
              "\n",
              "    .dataframe thead th {\n",
              "        text-align: right;\n",
              "    }\n",
              "</style>\n",
              "<table border=\"1\" class=\"dataframe\">\n",
              "  <thead>\n",
              "    <tr style=\"text-align: right;\">\n",
              "      <th></th>\n",
              "      <th>ImgLink</th>\n",
              "      <th>Category</th>\n",
              "      <th>Details</th>\n",
              "      <th>CreditPrice</th>\n",
              "      <th>CashPrice</th>\n",
              "    </tr>\n",
              "  </thead>\n",
              "  <tbody>\n",
              "    <tr>\n",
              "      <th>0</th>\n",
              "      <td>sell.gameloot.in/wp-content/uploads/sites/4/20...</td>\n",
              "      <td>ps5</td>\n",
              "      <td>Ghost of Tsushima Directors Cut PS5</td>\n",
              "      <td>Rs. 3,900</td>\n",
              "      <td>Rs. 3,650</td>\n",
              "    </tr>\n",
              "    <tr>\n",
              "      <th>1</th>\n",
              "      <td>sell.gameloot.in/wp-content/uploads/sites/4/20...</td>\n",
              "      <td>ps5</td>\n",
              "      <td>Call of Duty Black Ops Cold War PS5</td>\n",
              "      <td>Rs. 3,750</td>\n",
              "      <td>Rs. 3,500</td>\n",
              "    </tr>\n",
              "    <tr>\n",
              "      <th>2</th>\n",
              "      <td>sell.gameloot.in/wp-content/uploads/sites/4/20...</td>\n",
              "      <td>ps5</td>\n",
              "      <td>NBA 2K22 PS5</td>\n",
              "      <td>Rs. 3,350</td>\n",
              "      <td>Rs. 3,100</td>\n",
              "    </tr>\n",
              "    <tr>\n",
              "      <th>3</th>\n",
              "      <td>sell.gameloot.in/wp-content/uploads/sites/4/20...</td>\n",
              "      <td>ps5</td>\n",
              "      <td>Call of Duty Black Ops Cold War PS5 (ESR...</td>\n",
              "      <td>Rs. 3,050</td>\n",
              "      <td>Rs. 2,800</td>\n",
              "    </tr>\n",
              "    <tr>\n",
              "      <th>4</th>\n",
              "      <td>sell.gameloot.in/wp-content/uploads/sites/4/20...</td>\n",
              "      <td>ps5</td>\n",
              "      <td>F1 2021 PS5</td>\n",
              "      <td>Rs. 3,000</td>\n",
              "      <td>Rs. 2,750</td>\n",
              "    </tr>\n",
              "  </tbody>\n",
              "</table>\n",
              "</div>"
            ],
            "text/plain": [
              "                                             ImgLink  ...  CashPrice\n",
              "0  sell.gameloot.in/wp-content/uploads/sites/4/20...  ...  Rs. 3,650\n",
              "1  sell.gameloot.in/wp-content/uploads/sites/4/20...  ...  Rs. 3,500\n",
              "2  sell.gameloot.in/wp-content/uploads/sites/4/20...  ...  Rs. 3,100\n",
              "3  sell.gameloot.in/wp-content/uploads/sites/4/20...  ...  Rs. 2,800\n",
              "4  sell.gameloot.in/wp-content/uploads/sites/4/20...  ...  Rs. 2,750\n",
              "\n",
              "[5 rows x 5 columns]"
            ]
          },
          "metadata": {},
          "execution_count": 5
        }
      ]
    },
    {
      "cell_type": "code",
      "metadata": {
        "id": "ZQkadP7i6T9E"
      },
      "source": [
        "df.to_csv('AllGameData.csv', index=False)"
      ],
      "execution_count": null,
      "outputs": []
    },
    {
      "cell_type": "code",
      "metadata": {
        "id": "YqCSHWiu6Yjg"
      },
      "source": [
        ""
      ],
      "execution_count": null,
      "outputs": []
    }
  ]
}